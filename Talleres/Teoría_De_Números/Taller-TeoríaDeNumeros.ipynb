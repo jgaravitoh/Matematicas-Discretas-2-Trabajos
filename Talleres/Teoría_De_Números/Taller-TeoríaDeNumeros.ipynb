{
  "cells": [
    {
      "attachments": {},
      "cell_type": "markdown",
      "metadata": {},
      "source": [
        "*Taller - Teoría de números*\n",
        "\n",
        "*Matemáticas Discretas 2: 2023-1 | Universidad Nacional De Colombia*\n",
        "\n",
        "*Juan Carlos Garavito Higuera*\n",
        "____________________________________________________________________________________________________________\n",
        "\n",
        "*Índice*\n",
        "\n",
        "\n",
        "1. ¿Existen enteros $a$ y $b$ tal que $a + b = 544$ y cuyo máximo común divisor es 11?.\n",
        "\n",
        "2. Encuentre una regla de divisibilidad para 8 y para 16.\n",
        "\n",
        "3. Si $p$ es un número primo y $a^2 \\equiv b^2 (\\mod p)$, pruebe que $a \\equiv \\pm b$.\n",
        "\n",
        "4. Encuentre el resto cuando $19^{19}$ es dividido por 5.\n",
        "\n",
        "5. Encuentre los últimos dos dígitos de $7^{7^{7}}$.\n",
        "\n",
        "6. Encuentre $\\phi(n)$ para n=35,  n=100, n=51200.\n",
        "\n",
        "7. Usted le pregunta a un robot que quiere comer. El responde “48.879”. Sabiendo que el robot piensa en hexadecimal pero habla el decimal, que le debería dar de comer?\n",
        "\n",
        "8. ¿65.314.638.792 es divisible por 24?.\n",
        "\n",
        "9. Pruebe que $n^p - n$ es divisible por $p$ si $p$ es un número primo.\n",
        "\n",
        "10. Encuentre los enteros $x$ y $y$ tal que $314x+159y=1$.\n",
        "\n",
        "11. Pruebe o controvierta la siguiente afirmación si $a^2 \\equiv b^2 (\\mod m)$ entonces $a \\equiv b (\\mod m)$ o $a \\equiv -b (\\mod m)$.\n",
        "\n",
        "12. Encuentre todos los enteros positivos tales que $1066 \\equiv 1776 (\\mod m)$.\n",
        "\n",
        "13. Muestre que la diferencia de dos cubos consecutivos nunca es divisible por 5.\n",
        "\n",
        "14. Encuentre un entero positivo $n$ tal que $3^2|n$, $4^2|n+1$, $5^2|n+2$\n",
        "\n",
        "15. ¿Cuál es el último digito de $7^{355}$?\n",
        "\n",
        "16. Muestre que $3k+4$ y $4k+5$ no tienen un factor común más grande que 1\n",
        "\n",
        "____________________________________________________________________________________________________________"
      ]
    },
    {
      "attachments": {},
      "cell_type": "markdown",
      "metadata": {
        "id": "ObvmHSlLd9O0"
      },
      "source": [
        "*Desarrollo*"
      ]
    },
    {
      "attachments": {},
      "cell_type": "markdown",
      "metadata": {
        "id": "uHfSHqJLd9O0"
      },
      "source": [
        "1. ¿Existen enteros $a$ y $b$ tal que $a + b = 544$ y cuyo máximo común divisor es 11?."
      ]
    },
    {
      "attachments": {},
      "cell_type": "markdown",
      "metadata": {},
      "source": [
        "Para cumplir la condición:\n",
        "\\begin{align*}\n",
        "& 544 = 11n + 11m \\quad, \\: n,m \\in \\mathbb{Z} \\\\\n",
        "& \\frac{544}{11} = (n+m) \\quad, \\: (n+m) = k \\in \\mathbb{Z} \\\\\n",
        "& \\frac{544}{11} = k \\quad, \\text{donde  } \\frac{544}{11} = 49.4545 \\notin \\mathbb{Z}  \\\\\n",
        "\\end{align*}\n",
        "\n",
        "De modo que NO existen enteros $a$ y $b$ tal que $a+b=544$ y su máximo común divisor sea 11."
      ]
    },
    {
      "attachments": {},
      "cell_type": "markdown",
      "metadata": {},
      "source": [
        "____________________________________________________________________________________________________________"
      ]
    },
    {
      "attachments": {},
      "cell_type": "markdown",
      "metadata": {},
      "source": [
        "2. Encuentre una regla de divisibilidad para 8 y para 16.\n",
        "\n",
        "\n",
        "*Regla de divisibilidad para 8:* Un número cumple divisibilidad con 8 si sus últimos 3 digitos (_aquellos de menor peso_) dan forma a un múltiplo de 8.\n",
        "\n",
        "        Ejemplo: 33.006.904\n",
        "        \n",
        "\\begin{align*}\n",
        "  &9(100) + 0(10) + 4 \\quad\\%  8\\\\\n",
        "  &4 + 0 + 4 \\quad\\% 8\\\\\n",
        "  &8 \\quad\\% 8\\\\\n",
        "  &0\n",
        "\\end{align*}\n",
        "\n",
        "\n",
        "*Regla de divisibilidad para 16:* Un número cumple divisibilidad con 16 si sus últimos 4 digitos (_aquellos de menor peso_) dan forma a un múltiplo de 16.\n",
        "\n",
        "        Ejemplo: 12.104.336\n",
        "        \n",
        "  \\begin{align*}\n",
        "  &4(1000) + 3(100) + 3(10) + 6 \\quad\\%  16\\\\\n",
        "  &0 + 12 + 14 + 6 \\quad\\% 16\\\\\n",
        "  &26 + 6 \\quad\\% 16\\\\\n",
        "  &10 + 6  \\quad\\% 16\\\\\n",
        "  &16  \\quad\\% 16\\\\\n",
        "  &0\n",
        "  \\end{align*}"
      ]
    },
    {
      "attachments": {},
      "cell_type": "markdown",
      "metadata": {},
      "source": [
        "____________________________________________________________________________________________________________"
      ]
    },
    {
      "attachments": {},
      "cell_type": "markdown",
      "metadata": {},
      "source": [
        "3. Si $p$ es un número primo y $a^2 \\equiv b^2 (\\mod p)$, pruebe que $a \\equiv \\pm b$.\n",
        "\n",
        "Teniendo $a,b \\in \\mathbb{Z}$ cualesquiera, tales que $a^2 \\equiv b^2 \\pmod{p}$ con $p$ número primo, entonces $p \\mid (a^2 - b^2) = (a-b)(a+b)$.\n",
        "\n",
        "Según el *Lema de Euler*: Si $n$ es un número entero y divide a un producto $ab$ y es coprimo con uno de los factores, entonces $n$ divide al otro factor.\n",
        "\n",
        "En el primer caso se tiene $ (a - b)$ es coprimo con $ p $, puesto que $p$ es primo por hipotesis. A partir del *lema de euler*, se tiene que $p \\mid (a+b)$; que por definición de congruencia implica que $a ≡ -b \\pmod{p}$.\n",
        "\n",
        "Analogamente, para $p \\mid (a-b)$, pues $p$ tambien es coprimo a $(a+b)$, entonces $a ≡ b \\pmod{p}$.\n",
        "\n",
        "Así pues $a \\equiv \\pm b (\\mod p)$ si $a^2 \\equiv b^2 \\pmod{p}$.\n",
        "\n",
        "$\\blacksquare$"
      ]
    },
    {
      "attachments": {},
      "cell_type": "markdown",
      "metadata": {},
      "source": [
        "____________________________________________________________________________________________________________"
      ]
    },
    {
      "attachments": {},
      "cell_type": "markdown",
      "metadata": {},
      "source": [
        "4. Encuentre el resto cuando $19^{19}$ es dividido por 5.\n",
        "\n",
        "\n",
        "Por pequeño teorema de Fermat,  $19^{4} \\mod 5 = 1$, entonces:\n",
        "\n",
        "\\begin{align*}\n",
        "& (19^4)^4 \\cdot 19^3 \\:\\%5 \\\\\n",
        "& 1 \\cdot (15 + 4)^3 \\:\\%5 \\\\\n",
        "& (0 + 4)^3 \\:\\%5 \\\\\n",
        "& 4^2 \\cdot 4 \\:\\%5 \\\\\n",
        "& 16 \\cdot 4 \\:\\%5 \\\\\n",
        "& 1 \\cdot 4 \\:\\%5 \\\\\n",
        "& 4\n",
        "\\end{align*}\n",
        "\n",
        "$ 19^{19}  \\mod 5 = 4 $\n",
        "\n",
        "Para comprobar, se puede comprobar con python:"
      ]
    },
    {
      "cell_type": "code",
      "execution_count": 16,
      "metadata": {},
      "outputs": [
        {
          "name": "stdout",
          "output_type": "stream",
          "text": [
            "4\n"
          ]
        }
      ],
      "source": [
        "a = 19**19\n",
        "b = 5 \n",
        "print(a%b)"
      ]
    },
    {
      "attachments": {},
      "cell_type": "markdown",
      "metadata": {},
      "source": [
        "_____________________________________________________________________________________________________________________________________________"
      ]
    },
    {
      "attachments": {},
      "cell_type": "markdown",
      "metadata": {},
      "source": [
        "5. Encuentre los últimos dos dígitos de $7^{7^{7}}$.\n",
        "\n",
        "Para hallar el ultimo digito de un entero $n$ solo hace falta determinar $n \\pmod{100}$. Entonces asignemos $n = 7^{7^7}$.\n",
        "\n",
        "$7^7$ es un producto consecutivo de impares, así que el resultado también será impar, de esta forma: $7^7 = 2k  + 1$, entonces...\n",
        "\n",
        "\\begin{align*}\n",
        "& 7^{7^7} \\:\\% 100\\\\\n",
        "& 7^{2k +1} \\:\\% 100\\\\\n",
        "& (7^{2})^k \\cdot 7 \\:\\% 100 \\quad , 7^2 \\:\\% 100 = 49\\\\\n",
        "& 49 \\cdot 7 \\:\\% 100\\\\ \n",
        "& 343\\:\\% 100\\\\ \n",
        "& 43\n",
        "\\end{align*}\n",
        "\n",
        "Así tenemos que los ultimos digitos de $n = 7^{7^7}$ son 43."
      ]
    },
    {
      "attachments": {},
      "cell_type": "markdown",
      "metadata": {},
      "source": [
        "_____________________________________________________________________________________________________________________________________________"
      ]
    },
    {
      "attachments": {
        "image-2.png": {
          "image/png": "[encoded data removed]"
        },
        "image-3.png": {
          "image/png": "[encoded data removed]"
        },
        "image.png": {
          "image/png": "[encoded data removed]"
        }
      },
      "cell_type": "markdown",
      "metadata": {},
      "source": [
        "6. Encuentre $\\phi(n)$ para n=35,  n=100, n=51200.\n",
        "\n",
        "\n",
        "Usando el código explicado en el siguiente enlace: https://github.com/jgaravitoh/Matematicas-Discretas-2-Trabajos-2023-1S/blob/main/Tarea_6/Tarea_6_discretas_2_EulerTotient.ipynb\n",
        "\n",
        "Tenemos los siguientes resultados: \n",
        "\n",
        "\n",
        "![image.png](attachment:image.png)\n",
        "![image-2.png](attachment:image-2.png)\n",
        "![image-3.png](attachment:image-3.png)\n",
        "\n",
        "\n",
        "\n",
        "\n",
        "Siendo:\n",
        "\n",
        "$\\phi(35)$ = 24\n",
        "\n",
        "$\\phi(100)$ = 40\n",
        "\n",
        "$\\phi(51200)$ = 20480\n"
      ]
    },
    {
      "attachments": {},
      "cell_type": "markdown",
      "metadata": {},
      "source": [
        "_____________________________________________________________________________________________________________________________________________"
      ]
    },
    {
      "attachments": {},
      "cell_type": "markdown",
      "metadata": {},
      "source": [
        "7. Usted le pregunta a un robot que quiere comer. El responde “48.879”. Sabiendo que el robot piensa en hexadecimal pero habla el decimal, que le debería dar de comer?\n",
        "\n",
        "\n",
        "El problema se puede resolver con el siguiente código:"
      ]
    },
    {
      "cell_type": "code",
      "execution_count": 17,
      "metadata": {},
      "outputs": [
        {
          "name": "stdout",
          "output_type": "stream",
          "text": [
            "El robot quiere comer  BEEF\n"
          ]
        }
      ],
      "source": [
        "def decimal_a_hexadecimal(decimal):\n",
        "\n",
        "    if decimal == 0:\n",
        "        return '0'\n",
        "\n",
        "    # Diccionario de correspondencia entre valores decimales y hexadecimales\n",
        "    digitos_hex = \"0123456789ABCDEF\"\n",
        "    \n",
        "    # Lista para almacenar los dígitos hexadecimales\n",
        "    resultado = []\n",
        "\n",
        "    # Convertir el número decimal en hexadecimal\n",
        "    while decimal > 0:\n",
        "        residuo = decimal % 16  # Obtener el residuo de la división entre 16\n",
        "        resultado.insert(0, digitos_hex[residuo])  # Insertar el dígito hexadecimal en la posición inicial\n",
        "        decimal = decimal // 16  # Dividir el número decimal entre 16\n",
        "\n",
        "    # Convertir la lista de dígitos hexadecimales en un string\n",
        "    hexadecimal = ''.join(resultado)\n",
        "\n",
        "    return hexadecimal\n",
        "\n",
        "# Ejemplo de uso\n",
        "numero_decimal = 48879\n",
        "numero_hexadecimal = decimal_a_hexadecimal(48879)\n",
        "print(\"El robot quiere comer \", numero_hexadecimal)\n",
        "\n"
      ]
    },
    {
      "attachments": {},
      "cell_type": "markdown",
      "metadata": {},
      "source": [
        "El robot quiere comer carne de res."
      ]
    },
    {
      "attachments": {},
      "cell_type": "markdown",
      "metadata": {},
      "source": [
        "_____________________________________________________________________________________________________________________________________________"
      ]
    },
    {
      "attachments": {},
      "cell_type": "markdown",
      "metadata": {},
      "source": [
        "8. ¿65.314.638.792 es divisible por 24?.\n",
        "\n",
        "Para saber si un número es divisible por 24 este debe ser divisible por 8 y por 3.\n",
        "\n",
        "Para saber si es divisible por 3 la suma de sus cifras debe ser multiplo de 3, entonces:\n",
        "\n",
        "\\begin{align*}\n",
        "& 6+5+3+1+4+6+3+8+7+9+2  mod(3)\\\\\n",
        "& 54 mod(3) = 0\\\\\n",
        "\\end{align*}\n",
        "\n",
        "Para saber si es divisible por 8 la sus 3 ultimas cifras deben formar un múltiplo de 8, entonces:\n",
        "\n",
        "\\begin{align*}\n",
        "& 792 mod(8) = 0\\\\\n",
        "\\end{align*}\n",
        "\n",
        "\n",
        "\n",
        "En el caso de los números 3, 8 y 24, sus descomposiciones en factores primos son:\n",
        "\n",
        "\\begin {align*}\n",
        "& 3 = 3 \\\\\n",
        "& 8 = {2^3} \\\\\n",
        "& 24 = {2^3} * 3 \\\\\n",
        "\\end{align*}\n",
        "Dado que 24 contiene los factores primos 2 y 3, cualquier número divisible por 24 debe ser divisible por ambos números."
      ]
    },
    {
      "attachments": {},
      "cell_type": "markdown",
      "metadata": {},
      "source": [
        "_____________________________________________________________________________________________________________________________________________"
      ]
    },
    {
      "attachments": {},
      "cell_type": "markdown",
      "metadata": {},
      "source": [
        "9. Pruebe que $n^p - n$ es divisible por $p$ si $p$ es un número primo.\n",
        "\n",
        "\n",
        "Sea $n \\in \\mathbb{Z}$ cualquiera y $p$ un número primo. Se tienen 2 posibles casos, $ p \\mid n$ y $ p \\nmid n$.\n",
        "\n",
        "\n",
        "\n",
        "* Sea $ p \\mid n$.\n",
        "\n",
        "  Entonces p tambien divide cualquier escalar de $n$, incluyendo $n^p$, de modo que:\n",
        "  \\begin{align}\n",
        "    &n^p - n = p (\\overline{k} - k)\\\\\n",
        "    &n^p - n = p ℓ \\\\\n",
        "    & p \\mid (n^p - n)\n",
        "  \\end{align}\n",
        "\n",
        "* Sea $ p \\nmid n \\longrightarrow $ $p$, $n$ coprimos.\n",
        "\n",
        "  Entonces por el pequeño teorema de Fermat, $n^{p-1} \\equiv 1 \\pmod{p}$, de modo que:\n",
        "  \\begin{align}\n",
        "    (n^p - n) \\equiv (n\\cdot n^{p−1} - n)\\quad ⟶\\:\\: &n(1) - n \\pmod{p} \\\\\n",
        "    & 0 \\pmod{p}\\\\\n",
        "  \\end{align}\n",
        "\n",
        "  \\begin{align}\n",
        "  ⟹ (n^p - n) \\equiv 0 \\pmod{p}\n",
        "  \\end{align}\n",
        "\n",
        "  Lo que implica por definición de congruencia y divisibilidad $p \\mid (n^p - n)$.\n",
        "\n",
        "\n",
        "Por lo tanto, en todo caso, $p \\mid (n^p - n)$ si $p$ es primo.\n",
        "\n",
        "$\\blacksquare$\n",
        "\n"
      ]
    },
    {
      "attachments": {},
      "cell_type": "markdown",
      "metadata": {},
      "source": [
        "_____________________________________________________________________________________________________________________________________________"
      ]
    },
    {
      "attachments": {},
      "cell_type": "markdown",
      "metadata": {},
      "source": [
        "10. Encuentre los enteros $x$ y $y$ tal que $314x+159y=1$."
      ]
    },
    {
      "attachments": {},
      "cell_type": "markdown",
      "metadata": {},
      "source": [
        "Sea a = 314 y b = 159..."
      ]
    },
    {
      "cell_type": "code",
      "execution_count": 24,
      "metadata": {},
      "outputs": [
        {
          "name": "stdout",
          "output_type": "stream",
          "text": [
            "El MCD es: 1\n"
          ]
        }
      ],
      "source": [
        "def Euclides(a,b):\n",
        "    if a%b != 0:\n",
        "        a, b = b, a % b\n",
        "        return Euclides(a,b)\n",
        "    return b\n",
        "    \n",
        "def main():\n",
        "    print(\"El MCD es: \"+ str(Euclides(314,159)))\n",
        "\n",
        "main()"
      ]
    },
    {
      "attachments": {},
      "cell_type": "markdown",
      "metadata": {},
      "source": [
        "De modo que $x$ y $y$ son equivalentes a los números de Bézout, tales que, $mcd(a,b) = 1 = ax + by$. Es posible aplicar el Algoritmo para los números de Bézout para hallar dichos coeficientes:"
      ]
    },
    {
      "cell_type": "code",
      "execution_count": 37,
      "metadata": {},
      "outputs": [],
      "source": [
        "def bezout(a, b):\n",
        "    \"\"\"\n",
        "    Calcula el máximo común divisor de dos números enteros a y b,\n",
        "    así como los coeficientes x e y que satisfacen la identidad de Bezout.\n",
        "    \"\"\"\n",
        "    x0, x1, y0, y1 = 1, 0, 0, 1  # Inicializa los valores de x e y\n",
        "    while b != 0:\n",
        "        q, a, b = a // b, b, a % b  # Calcula el cociente y el resto\n",
        "        x0, x1 = x1, x0 - q * x1   # Actualiza los valores de x\n",
        "        y0, y1 = y1, y0 - q * y1   # Actualiza los valores de y\n",
        "    return x0, y0  # Devuelve el MCD y los coeficientes x e y\n"
      ]
    },
    {
      "cell_type": "code",
      "execution_count": 39,
      "metadata": {},
      "outputs": [
        {
          "name": "stdout",
          "output_type": "stream",
          "text": [
            "Coeficientes de Bezout: x = -40 , y = 79\n"
          ]
        }
      ],
      "source": [
        "def main():\n",
        "    # Ejemplo de uso\n",
        "    a = 314\n",
        "    b = 159\n",
        "\n",
        "    x, y = bezout(a, b)\n",
        "\n",
        "    print(\"Coeficientes de Bezout: x =\", x, \", y =\", y)\n",
        "main()"
      ]
    },
    {
      "attachments": {},
      "cell_type": "markdown",
      "metadata": {},
      "source": [
        "Siendo entonces:\n",
        "\n",
        "$x = -40$\n",
        "\n",
        "$y = 79$"
      ]
    },
    {
      "attachments": {},
      "cell_type": "markdown",
      "metadata": {},
      "source": [
        "_____________________________________________________________________________________________________________________________________________"
      ]
    },
    {
      "attachments": {},
      "cell_type": "markdown",
      "metadata": {},
      "source": [
        "11. Pruebe o controvierta la siguiente afirmación si $a^2 \\equiv b^2 (\\mod m)$ entonces $a \\equiv b (\\mod m)$ o $a \\equiv -b (\\mod m)$.\n",
        "\n",
        "Razonando por contraejemplo...\n",
        "\n",
        "Sea $a = 2, \\:\\:b = 8,\\:\\:m = 15 \\in \\mathbb{Z}$\n",
        "\n",
        "$\\:\\: a^2 = 4$ y $b^2 = 64$.\n",
        "\n",
        "Con $4 \\equiv 64 \\pmod{15}$, de modo que $a^2 \\equiv b^2 (\\mod m)$.\n",
        "\n",
        "Sin embargo, no es cierto que $2 \\equiv 8 \\pmod{15}$ o $2 \\equiv -8 \\pmod{15}$. Para $a$, en ambos casos es congruentes a $2$. Para $b$, es congruente a $8$ y $7$ respectivamente.\n",
        "\n",
        "Por lo tanto, la afirmación es falsa porque $a^2 \\equiv b^2 \\pmod{m} \\Rightarrow a \\equiv b \\pmod{m} \\:\\: \\text{ o }\\:\\: a \\equiv -b \\pmod{m}$ no se cumple en todos los casos.\n",
        "\n",
        "$\\blacksquare$"
      ]
    },
    {
      "attachments": {},
      "cell_type": "markdown",
      "metadata": {},
      "source": [
        "_____________________________________________________________________________________________________________________________________________"
      ]
    },
    {
      "attachments": {},
      "cell_type": "markdown",
      "metadata": {},
      "source": [
        "12. Encuentre todos los enteros positivos tales que $1066 \\equiv 1776 (\\mod m)$.\n",
        "\n",
        "La expresión inicial se puede transformar de la siguiente manera:\n",
        "\n",
        "\\begin{align*}\n",
        "  &1066 \\equiv 1776 \\pmod{m}\\\\\n",
        "  &1066 - 1066 \\equiv 1776 - 1066 \\pmod{m}\\\\\n",
        "  &0 \\equiv 710 \\pmod{m}\n",
        "\\end{align*}\n",
        "\n",
        "A partir de la expresión equivalente resultante, se determina que $m$ es todos auquellos enteros divisores de $710$. \n",
        "\\begin{align*}\n",
        "m \\in \\{x : 710\\mid x, \\:\\: x \\in \\mathbb{Z^+} \\}\n",
        "\\end{align*}\n",
        "\n",
        "Es posible desarrollar un codigo sencillo para hallar dicho conjunto."
      ]
    },
    {
      "cell_type": "code",
      "execution_count": 35,
      "metadata": {},
      "outputs": [
        {
          "name": "stdout",
          "output_type": "stream",
          "text": [
            "Los divisores de 710 son: [1, 2, 5, 10, 71, 142, 355, 710]\n"
          ]
        }
      ],
      "source": [
        "import math\n",
        "def encontrar_divisores(n):\n",
        "    divisores = []\n",
        "\n",
        "    for i in range(1, int(n**0.5) + 1):  #Limita el ciclo hasta la raiz del número.\n",
        "        if n % i == 0:\n",
        "            divisores.append(i)\n",
        "            if i != n // i:  # Evita duplicados si el número es un cuadrado perfecto\n",
        "                divisores.append(n // i)\n",
        "\n",
        "    divisores.sort()  # Ordena la lista de divisores\n",
        "    return divisores\n",
        "\n",
        "# Ejemplo de uso\n",
        "\n",
        "\n",
        "n = 710\n",
        "divisores = encontrar_divisores(n)\n",
        "print(\"Los divisores de\", n, \"son:\", divisores)\n"
      ]
    },
    {
      "attachments": {},
      "cell_type": "markdown",
      "metadata": {},
      "source": [
        "Entonces \n",
        "\\begin{align*}\n",
        "m \\in \\{1, 2, 5, 10, 71, 142, 355, 710\\}\n",
        "\\end{align*}"
      ]
    },
    {
      "attachments": {},
      "cell_type": "markdown",
      "metadata": {},
      "source": [
        "_____________________________________________________________________________________________________________________________________________"
      ]
    },
    {
      "attachments": {},
      "cell_type": "markdown",
      "metadata": {},
      "source": [
        "13. Muestre que la diferencia de dos cubos consecutivos nunca es divisible por 5.\n",
        "\n",
        "Sea $n \\in \\mathbb{Z}$ cualquiera, se tiene que\n",
        "\\begin{align*}\n",
        "& (n+1)^3 - n^3 \\equiv  \\: \\ell \\\\\n",
        "& ℓ= n^3 + 3n^2 + 3n + 1 - n^3\\\\\n",
        "&\\ell = 3n(n+1) + 1\n",
        "\\end{align*}\n",
        "\n",
        "Sabemos que cualquier número entero se puede expresar como una de las formas siguientes: \n",
        "$5k \\:\\:\\:$, \n",
        "$5k+1\\:\\:\\:$, \n",
        "$5k+2\\:\\:\\:$, \n",
        "$5k+3\\:\\:\\:$, \n",
        "$5k+4\\:\\:\\:$.\n",
        "\n",
        "\n",
        "\n",
        "1.   $n = 5k$\n",
        "      \\begin{align*}\n",
        "      & \\ell = (3)(5k)(5k +1) +1\\\\\n",
        "      & \\ell - 1 = 5 \\overline{k} \\\\\n",
        "      & ⟹ \\ell ≡ 1 \\pmod{5} \\text{ , por definicion de congruencia}\n",
        "      \\end{align*}\n",
        "\n",
        "\n",
        "Analogamente,    \n",
        "\n",
        "2.   $n = 5k +1$\n",
        "      \\begin{align*}\n",
        "      & \\ell = 3(5k +1)(5k +2) +1\\\\\n",
        "      & \\ell = 5(3)(5k^2 + 2k + k) + 6 + 1\\\\\n",
        "      & \\ell - 7 = 5 \\overline{k}\\\\\n",
        "      & ⟹ \\ell ≡ 7 ≡ 2 \\pmod{5}\n",
        "      \\end{align*}\n",
        "\n",
        "3.   $n = 5k +2$\n",
        "      \\begin{align*}\n",
        "      & \\ell = 3(5k +2)(5k +3) +1\\\\\n",
        "      & \\ell = 5(3)(5k^2 + 3k + 2k) + 18 + 1\\\\\n",
        "      & \\ell - 19 = 5 \\overline{k}\\\\\n",
        "      & ⟹ \\ell ≡ 19 ≡ 4 \\pmod{5}\n",
        "      \\end{align*}\n",
        "\n",
        "4.   $n = 5k +3$\n",
        "      \\begin{align*}\n",
        "      & \\ell = 3(5k +3)(5k +4) +1\\\\\n",
        "      & \\ell = 5(3)(5k^2 + 4k + 3k) + 36 + 1\\\\\n",
        "      & \\ell - 37 = 5 \\overline{k}\\\\\n",
        "      & ⟹ \\ell ≡ 37 ≡ 2 \\pmod{5}\n",
        "      \\end{align*}\n",
        "\n",
        "5.   $n = 5k +4$\n",
        "      \\begin{align*}\n",
        "      & \\ell = 3(5k +4)(5k +5) +1\\\\\n",
        "      & \\ell = 5(3)(5k +4)(k +1) +1\\\\\n",
        "      & \\ell = 5(3)(5k^2 + 5k + 4k) + 60 + 1\\\\\n",
        "      & \\ell - 61 = 5 \\overline{k}\\\\\n",
        "      & ⟹ \\ell ≡ 61 ≡ 1 \\pmod{5}\n",
        "      \\end{align*}\n",
        "\n",
        "De modo que no existen $n, (n+1) \\in \\mathbb{Z}$, tales que la diferencia de sus cubos tenga división exacta entre $5$.\n",
        "\n",
        "$\\blacksquare$\n",
        "\n",
        "      \n",
        "\n"
      ]
    },
    {
      "attachments": {},
      "cell_type": "markdown",
      "metadata": {},
      "source": [
        "_____________________________________________________________________________________________________________________________________________"
      ]
    },
    {
      "attachments": {},
      "cell_type": "markdown",
      "metadata": {},
      "source": [
        "14. Encuentre un entero positivo $n$ tal que $3^2|n$, $4^2|n+1$, $5^2|n+2$\n",
        "\n",
        "Es posible determinar el sistema de congruencias siguiente.\n",
        "\n",
        "\\begin{align*}\n",
        "&n≡0\\pmod{9} \\\\\n",
        "&n+1≡0\\pmod{16} \\\\\n",
        "&n+2≡0\\pmod{25} \\\\\n",
        "\\end{align*}\n",
        "Que es equivalente\n",
        "\\begin{align*}\n",
        "&n+2≡2\\pmod{9} \\\\\n",
        "&n+2≡1\\pmod{16} \\\\\n",
        "&n+2≡0\\pmod{25} \\\\\n",
        "\\end{align*}\n",
        "\n",
        "Aplicando el teorema del resto chino:\n",
        "\n",
        "\\begin{align*}\n",
        "&m = 3^24^25^2 = 3600\\\\\n",
        "&M_1 = 4^25^2 = 400 \\\\\n",
        "&M_2 = 3^25^2 = 225 \\\\\n",
        "&M_3 = 3^24^2 = 144\\\\\n",
        "\\end{align*}\n",
        "\n",
        "Para determinar los inversos podemos hacer uso del algoritmo de Bézout."
      ]
    },
    {
      "cell_type": "code",
      "execution_count": 40,
      "metadata": {},
      "outputs": [
        {
          "name": "stdout",
          "output_type": "stream",
          "text": [
            "Para 400v ≡ 1 mod(9):\n",
            "v = -2  \n",
            "\n",
            "Para 225v ≡ 1 mod(16):\n",
            "v = 1  \n",
            "\n",
            "Para 144v ≡ 1 mod(25):\n",
            "v = 4  \n",
            "\n"
          ]
        }
      ],
      "source": [
        "def main(a, b):\n",
        "  v,w = bezout(a,b)\n",
        "  d = a*v + b*w\n",
        "\n",
        "  print( f'Para {a}v ≡ 1 mod({b}):\\nv = {v}  \\n' )\n",
        "  \n",
        "m = [9, 16, 25]; M = [400, 225, 144]\n",
        "for i, j in zip(M , m): main(i, j)"
      ]
    },
    {
      "attachments": {},
      "cell_type": "markdown",
      "metadata": {},
      "source": [
        "De modo que.\n",
        "\\begin{align*}\n",
        "&v_1 = -2 \\\\\n",
        "&v_2 = 1 \\\\\n",
        "\\end{align*}\n",
        "\n",
        "Finalmente\n",
        "\n",
        "\\begin{align*}\n",
        "n+2 &= 2(4^25^2)(-2) + 1(3^25^2)(1) + 0\\\\\n",
        "&= -1600 + 225\\\\\n",
        "&= -1375 \\\\\n",
        "&⟶ \\quad -1375 \\pmod{m}\\\\\n",
        "& \\quad \\quad \\quad (2225 - 3600) \\pmod{3600}\\\\\n",
        "& \\quad \\quad \\quad (2225 - 0) \\pmod{3600}\\\\\n",
        "& \\quad \\quad \\quad 2225 \\\\\n",
        "&\\\\\n",
        "n &= 2225 - 2\\\\\n",
        "n &=\\mathbf{2223} \n",
        "\\end{align*}\n",
        "\n",
        "\n",
        "Esto lo podemos comprobar rapidamente gracias a python:"
      ]
    },
    {
      "cell_type": "code",
      "execution_count": 41,
      "metadata": {},
      "outputs": [
        {
          "name": "stdout",
          "output_type": "stream",
          "text": [
            "0\n",
            "0\n",
            "0\n"
          ]
        }
      ],
      "source": [
        "n = 2223\n",
        "print( n % 9 )\n",
        "print( (n+1) % 16 )\n",
        "print( (n+2) % 25 )"
      ]
    },
    {
      "attachments": {},
      "cell_type": "markdown",
      "metadata": {},
      "source": [
        "_____________________________________________________________________________________________________________________________________________"
      ]
    },
    {
      "attachments": {},
      "cell_type": "markdown",
      "metadata": {},
      "source": [
        "15. ¿Cuál es el último digito de $7^{355}$?\n",
        "\n",
        "Para hallar el ultimo digito de un entero $n$, basta con determinar $ n \\pmod{10}$. Sea $n = 7^{355}$.\n",
        "\n",
        "\\begin{align*}\n",
        "&7^{354 +1} \\quad\\% 10 \\quad ,354 = 2n \\\\\n",
        "&(7^2)^n \\cdot 7 \\quad\\% 10\\\\\n",
        "\\end{align*}\n",
        "\n",
        "Con $n = 177$ impar.\n",
        "\n",
        "\\begin{align*}\n",
        "&9 \\cdot 7 \\quad\\% 10\\\\\n",
        "&63 \\quad\\% 10\\\\\n",
        "&3\n",
        "\\end{align*}\n",
        "\n",
        "De modo que el ultimo digito de $7^{355}$ es $3$.\n",
        "\n",
        "Esto lo podemos además, comprobar gracias a python:"
      ]
    },
    {
      "cell_type": "code",
      "execution_count": 42,
      "metadata": {},
      "outputs": [
        {
          "name": "stdout",
          "output_type": "stream",
          "text": [
            "3\n"
          ]
        }
      ],
      "source": [
        "print( (7**355) % 10)"
      ]
    },
    {
      "attachments": {},
      "cell_type": "markdown",
      "metadata": {},
      "source": [
        "_____________________________________________________________________________________________________________________________________________"
      ]
    },
    {
      "attachments": {},
      "cell_type": "markdown",
      "metadata": {},
      "source": [
        "16. Muestre que $3k+4$ y $4k+5$ no tienen un factor común más grande que 1\n",
        "\n",
        "Supongase existe $d \\in \\mathbb{Z}$ tales que  $d > 1  $ y $\\quad d \\mid 3k+4 $ tanto como $d \\mid 4k+5 $. Entonces la división de estos dos factores en $d$ tiene el mismo resto:\n",
        "\n",
        "\\begin{align*}\n",
        "& 4k+5 \\equiv 3k+4 \\pmod d \\\\\n",
        "& 4k + 5 - 3k - 4 = dn\\\\\n",
        "& k + 1 = dn\\\\\n",
        "& k  = dn -1\\\\\n",
        "\\end{align*}\n",
        "\n",
        "Ahora, como $ d \\mid 3k+4 $ por hipotesis, $ 3k+4 = dm $, remplazando:\n",
        "\n",
        "\\begin{align*}\n",
        "& 3(dn -1) +4 = dm \\\\\n",
        "& 4 - 3 = d(m - 3n)\\\\\n",
        "& 1 = dℓ\\\\\n",
        "\\end{align*}\n",
        "\n",
        "Como $ℓ \\in \\mathbb{Z}$, $ℓ= 1/d$, donde $d$ debe ser un divisor de 1, es decir, $d=1$. No obstante $d > 1$ por hipotesis, lo que es un absurdo.\n",
        "\n",
        "Por lo tanto, por reducción al absurdo, $3k+4$ y $4k+5$ no tienen un factor común más grande que 1.\n",
        "\n",
        "$\\blacksquare$\n"
      ]
    },
    {
      "attachments": {},
      "cell_type": "markdown",
      "metadata": {},
      "source": [
        "_____________________________________________________________________________________________________________________________________________"
      ]
    }
  ],
  "metadata": {
    "colab": {
      "provenance": []
    },
    "kernelspec": {
      "display_name": "Python 3",
      "language": "python",
      "name": "python3"
    },
    "language_info": {
      "codemirror_mode": {
        "name": "ipython",
        "version": 3
      },
      "file_extension": ".py",
      "mimetype": "text/x-python",
      "name": "python",
      "nbconvert_exporter": "python",
      "pygments_lexer": "ipython3",
      "version": "3.11.3"
    },
    "orig_nbformat": 4,
    "vscode": {
      "interpreter": {
        "hash": "cb0f5aa502a22d06408b0f4762a160f5914c094cb3a1ad1bf7072f0354307a69"
      }
    }
  },
  "nbformat": 4,
  "nbformat_minor": 0
}
