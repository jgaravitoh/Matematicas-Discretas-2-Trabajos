{
  "cells": [
    {
      "attachments": {},
      "cell_type": "markdown",
      "metadata": {},
      "source": [
        "*ALGORITMO PARA COMPROBAR SI LA OPERACIÓN DE UN CONJUNTO ES UN CUADRO LATINO O UN GRUPO*\n",
        "\n",
        "*Matemáticas Discretas 2: 2023-1 | Universidad Nacional De Colombia*\n",
        "\n",
        "*Juan Carlos Garavito Higuera*\n",
        "\n",
        "El presente reto se nos muestra para facilitar el análisis de tablas de tablas de Cayley, analizando y evaluando las distintas propiedades de cuadro latino y grupo dictadas según la definición de las mismas, es por esto que se realiza el algoritmo a manera de código aplicable para optimizar el proceso."
      ]
    },
    {
      "cell_type": "code",
      "execution_count": null,
      "metadata": {
        "id": "j7RZybnQd9Ov"
      },
      "outputs": [],
      "source": [
        "import numpy as np                #Libreria de manejo matemático y matrices multidimencionales.\n",
        "import itertools                  #Libreria de manejo de combinaciones y permutaciones."
      ]
    },
    {
      "cell_type": "markdown",
      "metadata": {
        "id": "ObvmHSlLd9O0"
      },
      "source": [
        "DESARROLLO DE LA SOLUCIÓN DEL PROBLEMA."
      ]
    },
    {
      "attachments": {},
      "cell_type": "markdown",
      "metadata": {
        "id": "uHfSHqJLd9O0"
      },
      "source": [
        "El acercamiento realizado consiste en un programa de tipo cascada en el que al realizar una prueba esta falla cancela las demás pruebas y salta a la siguiente evaluación para ayudar con la complejidad y tiempos de ejecución. En este orden de ideas lo primero que debemos tener en cuenta en la definición de grupos son las propiedades que estos cargan consigo, podemos verlas en este orden (El cual está previsto de menor a mayor requerimiento computacional):\n",
        "\n",
        "- La operación debe ser cerrada.\n",
        "- Deber haber la existencia del elemento neutro. \n",
        "- Debe haber la existencia de elementos inversos para los elementos del conjunto.\n",
        "- La operación debe ser asociativa.\n",
        "\n",
        "Como se mencionó antes y por la naturaleza del programa, si no se cumple alguna de estas propiedades podemos descartar que la matriz sea un grupo, y podemos empezar a analizar si la matriz es un cuadrado latino.\n",
        "\n",
        "    Operación cerrada > Elemento neutro > Elementos inversos > Asociatividad\n",
        "\n",
        "Este orden tiene sentido, ya que de igual manera, no podemos verificar la existencia de elementos inversos sin haber definido el elemento neutro."
      ]
    },
    {
      "cell_type": "markdown",
      "metadata": {
        "id": "scEWWJb1d9O1"
      },
      "source": [
        "Comenzamos por ingresar el conjunto, y su matriz asociada a comprobar."
      ]
    },
    {
      "cell_type": "code",
      "execution_count": null,
      "metadata": {
        "id": "_KJ3n4sRd9O1"
      },
      "outputs": [],
      "source": [
        "Conjunto =np.array(['e','g1','g2','g3','g4','g5'])  # Definimos un arreglo con los elementos que representan el conjunto\n",
        "Matriz = np.array([                                 # Definimos una matriz con los elementos dentro de la tabla de cayley\n",
        "            [ 'e','g1','g2','g3','g4','g5'],\n",
        "            ['g1', 'e','g3','g4','g5','g2'],\n",
        "            ['g2','g3', 'e','g5','g1','g4'],\n",
        "            ['g3','g4','g5', 'e','g2','g1'],\n",
        "            ['g4','g5','g1','g2', 'e','g3'],\n",
        "            ['g5','g2','g4','g1','g3','e']\n",
        "         ])"
      ]
    },
    {
      "cell_type": "markdown",
      "metadata": {
        "id": "iOVFb08Cd9O2"
      },
      "source": [
        "Declaramos las banderas donde se guardan las propiedades de nuestra matriz, todas inicializadas en falso."
      ]
    },
    {
      "cell_type": "code",
      "execution_count": null,
      "metadata": {
        "id": "bb3BsfvBd9O3"
      },
      "outputs": [],
      "source": [
        "# Se crean variables bandera que sirven para determinar y analizar los resultados de las pruebas.\n",
        "\n",
        "EsCerrada=False\n",
        "HayNeutro=False\n",
        "HayInversos=False\n",
        "EsAsociativa=False"
      ]
    },
    {
      "attachments": {},
      "cell_type": "markdown",
      "metadata": {
        "id": "TXUvirjyd9O4"
      },
      "source": [
        "El primer paso es comprobar si la operación es cerrada. Para esto, simplemente verificamos que cada elemento de la matriz, esté dentro del conjunto. De esto se encarga la función VerificarCerrada()."
      ]
    },
    {
      "cell_type": "code",
      "execution_count": null,
      "metadata": {
        "id": "uiGmV0Ysd9O4"
      },
      "outputs": [],
      "source": [
        "def VerificarCerrada(Conjunto, Matriz):                    #Se toman de parámetros el conjunto y matriz instanciados anteriormente.\n",
        "    tamMatriz = len(Matriz)\n",
        "    for i in range(tamMatriz):\n",
        "        for j in range(tamMatriz):                          #Se accede a la matriz dada.\n",
        "            if (Matriz[i][j] not in Conjunto):              #Revisa si los elementos de la matriz no están dentro del conjunto base.\n",
        "                return False                                #Retorna falso (booleano) si no es cerrada.\n",
        "    return True                                             #Retorna verdadero (booleano) si es cerrada."
      ]
    },
    {
      "attachments": {},
      "cell_type": "markdown",
      "metadata": {
        "id": "RVhTQlTLd9O5"
      },
      "source": [
        "Para el elemento neutro, basta con verificar que exista un elemento cuya fila y columna correspondiente, coincida con la definición original del conjunto. De esto se encarga la función CalcularNeutro()."
      ]
    },
    {
      "cell_type": "code",
      "execution_count": null,
      "metadata": {
        "id": "P6-ys4OBd9O6"
      },
      "outputs": [],
      "source": [
        "def CalcularNeutro(Conjunto,Matriz):\n",
        "\n",
        "    Neutrofila=[False,None]\n",
        "    Neutrocolumna=[False,None]\n",
        "    TamMatriz = len(Matriz)                           #Es el tamaño de la matriz\n",
        "    MatTranspuesta = Matriz.transpose()               #Entrega la matriz transpuesta según la original.\n",
        "           \n",
        "    for i in range(TamMatriz):\n",
        "        if(np.array_equal(Matriz[i],Conjunto)):                 #Revisa si la fila de la matriz es equivalente al conjunto inicial dado.\n",
        "            Neutrofila[0]=True\n",
        "            Neutrofila[1]=Conjunto[i]                           #Guarda el posible elemento neutro de las filas.\n",
        "\n",
        "        if(np.array_equal(MatTranspuesta[i],Conjunto)):         #Revisa si la fila de la matriz transpuesta (columna original)... \n",
        "            Neutrocolumna[0]=True                               #es equivalente al conjunto inicial dado.\n",
        "            Neutrocolumna[1]=Conjunto[i]                        #Guarda el posible elemento neutro de las columnas.\n",
        "\n",
        "        if (Neutrofila[0] and Neutrocolumna[0] and (Neutrofila[1]==Neutrocolumna[1])): \n",
        "            return True, Neutrofila[1]                          #Si encuentra el elemento neutro en fila y columna lo retorna.\n",
        "\n",
        "    return False, None                                          #Retorna falso (booleano) y none si no no encuentra el elemento neutro. \n"
      ]
    },
    {
      "cell_type": "markdown",
      "metadata": {
        "id": "dhRHSReJd9O6"
      },
      "source": [
        "Para los elementos inversos, buscamos por cada elemento, otro que multiplicado con el inicial por izquierda nos de el identidad, y verificamos que esto sea conmutativo."
      ]
    },
    {
      "cell_type": "markdown",
      "metadata": {
        "id": "PByqS14Ad9O6"
      },
      "source": [
        "Buscamos el elemento neutro de la matriz, si la operación es cerrada. De lo contrario, no."
      ]
    },
    {
      "cell_type": "code",
      "execution_count": null,
      "metadata": {
        "id": "QoyLG8lnd9O6"
      },
      "outputs": [],
      "source": [
        "EsCerrada = VerificarCerrada(Conjunto, Matriz)\n",
        "if (EsCerrada):                                                     #Si la matriz es cerrada cambiar la bandera de HayNeutro a True\n",
        "    HayNeutro, Neutro = CalcularNeutro(Conjunto,Matriz)             #Y guarda el elemento Neutro en la variable del mismo nombre.\n",
        "\n",
        "\n"
      ]
    },
    {
      "attachments": {},
      "cell_type": "markdown",
      "metadata": {
        "id": "QQQCGl0bd9O6"
      },
      "source": [
        "BuscarInverso() es la función que nos permite revisar los inversos dentro de la tabla de Cayley. Esta función realiza su tarea bajo la definición del elemento inverso diciendo que si existe, la operación del mismo con el elemento original debe dar el elemento neutro."
      ]
    },
    {
      "cell_type": "code",
      "execution_count": null,
      "metadata": {
        "id": "EMf4vMJKd9O7"
      },
      "outputs": [],
      "source": [
        "#Busca el inverso de cada elemento del conjunto.\n",
        "def BuscarInverso(NumElemento,Conjunto,Matriz,Neutro):\n",
        "    MatTranspuesta = Matriz.transpose()                             #Transpone la Matriz base\n",
        "    InversoFila=None\n",
        "    InversoColumna=None\n",
        "    if (Neutro in Matriz[NumElemento]):                             #Busca si el Elemento neutro está en el índice dado en las filas\n",
        "        InversoFila=Conjunto[np.where(Matriz[NumElemento]==Neutro)] #np.where busca en la matriz el elemento neutro y luego trae...\n",
        "    if (InversoFila):                                               #cuál sería ese elemento.\n",
        "        if (Neutro in MatTranspuesta[NumElemento]):                                   \n",
        "            InversoColumna=Conjunto[np.where(MatTranspuesta[NumElemento]==Neutro)] #Busca si el Elemento neutro está en el índice dado en las columnas\n",
        "        if(InversoFila==InversoColumna):     #Revisa si son iguales los inversos encontrados en la posición puesto que los inversos son asociativos.\n",
        "            return True\n",
        "    return False      #Si no hay algún elemento neutro entonces el inverso no puede existir por la definición de si mismo.\n",
        "\n",
        "#Verifica la unicidad de los elementos inversos para cualquier elemento dentro de la operación.\n",
        "def VerificarInversos(Conjunto,Matriz,Neutro):\n",
        "    for numelemento in range(len(Conjunto)):\n",
        "        if (not BuscarInverso(numelemento,Conjunto,Matriz,Neutro)):\n",
        "            return False\n",
        "    return True\n"
      ]
    },
    {
      "attachments": {},
      "cell_type": "markdown",
      "metadata": {
        "id": "fD3E5OVjd9O7"
      },
      "source": [
        "Verificamos que cada elemento dentro de la tabla tenga un inverso."
      ]
    },
    {
      "cell_type": "code",
      "execution_count": null,
      "metadata": {
        "id": "SI__fsSnd9O7"
      },
      "outputs": [],
      "source": [
        "if (HayNeutro):\n",
        "    HayInversos=VerificarInversos(Conjunto,Matriz,Neutro) #Si encuentra un Neutro ejecuta la función HayInversos.\n"
      ]
    },
    {
      "attachments": {},
      "cell_type": "markdown",
      "metadata": {
        "id": "xGy3Di1Ud9O7"
      },
      "source": [
        "Para la asociatividad, verificamos si todas las combinaciones de operaciones de tres elementos posibles del conjunto al analizarlas independientemente del orden de ejecución de la operación dan el mismo resultado. Si se encuenta una operación de tres elementos en la que no se presenta la asociatividad la matriz devuelve un False (booleano) indicando el no cumplimiento de las propiedades de un grupo."
      ]
    },
    {
      "cell_type": "code",
      "execution_count": null,
      "metadata": {
        "id": "1QSpuK8Wd9O8"
      },
      "outputs": [],
      "source": [
        "\n",
        "def IsAsociative(Conjunto,Matriz):\n",
        "    n = len(Conjunto)\n",
        "    lista=[]\n",
        "    for i in range(n):\n",
        "      lista.append(i)\n",
        "    result = []\n",
        "    for i in range(n-2):\n",
        "        for j in range(i+1, n-1):\n",
        "            for k in range(j+1, n):\n",
        "                result.append([lista[i], lista[j], lista[k]])                           # encuentra los 3 elementos\n",
        "    \n",
        "    ban=True\n",
        "    posibilidades=result\n",
        "    for i in range(len(posibilidades)):\n",
        "      resultado1=np.where(Conjunto==Matriz[posibilidades[i][1]][posibilidades[i][2]])[0][0]       # \"\"     \"\"      \"\"       \"\" \n",
        "      resultado2=np.where(Conjunto==Matriz[posibilidades[i][0]][posibilidades[i][1]])[0][0]       # calcula las dos operaciones\n",
        "      if(Matriz[(posibilidades[i][0])][resultado1]!=Matriz[resultado2][(posibilidades[i][2])]):   # revisa si no son equivalentes\n",
        "        ban=False                                                         # retorna Falso (booleano) en caso de no ser Asociativa\n",
        "        i=len(posibilidades)-1\n",
        "    return ban                                                            # retorna Verdadero (booleano) en caso de ser Asociativa\n",
        "    \n",
        "\n",
        "\n"
      ]
    },
    {
      "cell_type": "markdown",
      "metadata": {
        "id": "VEmut0S_d9O8"
      },
      "source": [
        "Verificamos que la operación sea asociativa, si cada elemento tiene inverso. De lo contrario, pasamos a verificar si la tabla es un cuadrado latino."
      ]
    },
    {
      "cell_type": "code",
      "execution_count": null,
      "metadata": {
        "id": "W3okORAMd9O8"
      },
      "outputs": [],
      "source": [
        "if (HayInversos):                         #Si encuentra los inversos ejecuta la función EsAsociativa.\n",
        "    EsAsociativa = IsAsociative(Conjunto,Matriz)"
      ]
    },
    {
      "attachments": {},
      "cell_type": "markdown",
      "metadata": {
        "id": "iO4gcUsSd9O8"
      },
      "source": [
        "Si estas tres comprobaciones se cumplen, podemos decir que la matriz inicial es un grupo (Y a su vez, un cuadrado latino). Si no, procedemos a verificar si la matriz es un cuadro latino o no."
      ]
    },
    {
      "cell_type": "code",
      "execution_count": null,
      "metadata": {
        "id": "uJCo2K_Hd9O8"
      },
      "outputs": [],
      "source": [
        "if (EsCerrada and HayNeutro and HayInversos and EsAsociativa):\n",
        "    print(\"El conjunto más la operación definida por la tabla de Cayley ingresadas son un grupo, y un cuadrado latino.\")\n",
        "else:\n",
        "    print(\"El conjunto más la operación definida por la tabla de Cayley ingresadas NO son un grupo\")\n",
        "    EsGrupo=False\n"
      ]
    },
    {
      "attachments": {},
      "cell_type": "markdown",
      "metadata": {
        "id": "WHQH3Jgod9O9"
      },
      "source": [
        "Si identificamos en el paso anterior que la matriz NO es un grupo, procedemos a verificar si es un cuadrado latino o no. De esto se encarga la función LatinSquareBool() que recibe únicamente la matriz correspondiente y retorna un dato de tipo booleano confirmando o desmintiendo si es un cuadrado latino."
      ]
    },
    {
      "cell_type": "code",
      "execution_count": null,
      "metadata": {
        "id": "Ujb6xN5cd9O9"
      },
      "outputs": [],
      "source": [
        "# Proceso para verificar si es un cuadrado latino o no\n",
        "def LatinSquareBool(Matriz):\n",
        "  LatinSquare=True\n",
        "  result = []\n",
        "  cuenta=0\n",
        "  for item in Matriz[0]:\n",
        "      if item not in result:\n",
        "          result.append(item)                      #añade los elementos que no encuentre en la fila\n",
        "      else:\n",
        "        cuenta+=1\n",
        "  if cuenta>=1:\n",
        "    LatinSquare=False                              #si hay algún elemento repetido nos indica que no es un cuadrado latino\n",
        "  else:\n",
        "\n",
        "    permutations = list(itertools.permutations(result))      #Crea las permutaciones posibles de lo que se guardó en la lista\n",
        "    filas=np.shape(Matriz)[0]                                #tamaño de la fila\n",
        "    Trans=np.transpose(Matriz)                               #transpone la matriz\n",
        "    permutaciones= list(map(list,permutations))              #Añade las permutaciones a una lista.\n",
        "    for i in range(filas):\n",
        "\n",
        "      if Matriz[i].tolist() not in permutaciones or Trans[i].tolist() not in permutaciones:    \n",
        "        LatinSquare=False                     #revisa si las filas o columnas no están en las posibles permutaciones,                                                        \n",
        "  return LatinSquare                          #si esto ocurre, no es un cuadrado latino.\n",
        "\n",
        "\n",
        "     "
      ]
    },
    {
      "cell_type": "markdown",
      "metadata": {
        "id": "2dVqjOgdd9O9"
      },
      "source": [
        "Procedemos a la muestra de resultados, de acuerdo con los resultados analizados en los pasos anteriores, para que sean interpletables por cualquier persona."
      ]
    },
    {
      "cell_type": "code",
      "execution_count": null,
      "metadata": {
        "id": "MI_hVFRcd9O9"
      },
      "outputs": [],
      "source": [
        "#Analisis y muestra de resultados.\n",
        "\n",
        "if(LatinSquareBool(Matriz)):\n",
        "    print(\"La matriz ingresada es un cuadrado latino\")\n",
        "else:\n",
        "  print(\"La matriz ingresada no es un cuadrado latino\")\n"
      ]
    },
    {
      "cell_type": "markdown",
      "metadata": {
        "id": "S-mI5kXCd9O9"
      },
      "source": [
        "Bibliografía\n",
        "\n",
        "https://marcelgoh.ca/2018/10/06/cayley-tables.html \n",
        "\n",
        "Clifford, Alfred Hoblitzelle; Preston, Gordon Bamford (1961). The algebraic theory of semigroups. Vol. I. Mathematical Surveys, No. 7. Providence, R.I.: American Mathematical Society. ISBN 978-0-8218-0272-4. MR 0132791. (pp. 7–9)\n",
        "\n",
        "https://gist.github.com/jfinkels/c33681e7f7b54421ea02"
      ]
    }
  ],
  "metadata": {
    "colab": {
      "provenance": []
    },
    "kernelspec": {
      "display_name": "Python 3",
      "language": "python",
      "name": "python3"
    },
    "language_info": {
      "codemirror_mode": {
        "name": "ipython",
        "version": 3
      },
      "file_extension": ".py",
      "mimetype": "text/x-python",
      "name": "python",
      "nbconvert_exporter": "python",
      "pygments_lexer": "ipython3",
      "version": "3.10.2"
    },
    "orig_nbformat": 4,
    "vscode": {
      "interpreter": {
        "hash": "cb0f5aa502a22d06408b0f4762a160f5914c094cb3a1ad1bf7072f0354307a69"
      }
    }
  },
  "nbformat": 4,
  "nbformat_minor": 0
}
