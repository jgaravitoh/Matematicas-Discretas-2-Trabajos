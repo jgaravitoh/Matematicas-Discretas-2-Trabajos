{
  "cells": [
    {
      "attachments": {},
      "cell_type": "markdown",
      "metadata": {},
      "source": [
        "*La funcion φ de Euler o Euler Totient*\n",
        "\n",
        "*Matemáticas Discretas 2: 2023-1 | Universidad Nacional De Colombia*\n",
        "\n",
        "*Juan Carlos Garavito Higuera*\n",
        "\n",
        "El presente reto se nos muestra para facilitar el análisis y cálculo de generadores en los grupos cíclicos, además de ver la diferencia entre una aproximación que realiza el cálculo a fuerza bruta vs una implementación con el lema de Euler Totient."
      ]
    },
    {
      "cell_type": "markdown",
      "metadata": {
        "id": "ObvmHSlLd9O0"
      },
      "source": [
        "DESARROLLO DE LA SOLUCIÓN DEL PROBLEMA."
      ]
    },
    {
      "attachments": {},
      "cell_type": "markdown",
      "metadata": {
        "id": "uHfSHqJLd9O0"
      },
      "source": [
        "El acercamiento realizado consiste en un programa modular en el que se toman en cuenta todos los pasos del Euler totient con los grupos cíclicos.\n",
        "\n",
        "La funcion φ de Euler o Euler Totient se puede definir de la siguiente manera:\n",
        "\n",
        "                                   φ(n) = | {x: 1 <= x <= n  ∧ mcd(n,x)=1} |\n",
        "\n",
        "Teorema: Sea G un Grupo cíclico de orden n, generado por a, entonces G tiene φ(n) generadores."
      ]
    },
    {
      "attachments": {},
      "cell_type": "markdown",
      "metadata": {},
      "source": [
        "Lema Euler Totient:\n",
        "                        "
      ]
    },
    {
      "attachments": {},
      "cell_type": "markdown",
      "metadata": {},
      "source": [
        "                                        i.   φ(1) = 1. \n"
      ]
    },
    {
      "attachments": {},
      "cell_type": "markdown",
      "metadata": {},
      "source": [
        "                                        ii.   Si p es primo:  φ(p^a) = (p^a) - (p^a-1).\n",
        "                                            "
      ]
    },
    {
      "attachments": {},
      "cell_type": "markdown",
      "metadata": {},
      "source": [
        "                                        iii.   Si mcd(m,n) = 1: φ(mn) = φ(m) φ(n)."
      ]
    },
    {
      "attachments": {},
      "cell_type": "markdown",
      "metadata": {},
      "source": [
        "Las librerias a usar serán math y time."
      ]
    },
    {
      "cell_type": "code",
      "execution_count": 1,
      "metadata": {
        "id": "j7RZybnQd9Ov"
      },
      "outputs": [],
      "source": [
        "import math         #Libreria de manejo matemático.\n",
        "import time         #Libreria de manejo y análisis de tiempo."
      ]
    },
    {
      "attachments": {},
      "cell_type": "markdown",
      "metadata": {
        "id": "iOVFb08Cd9O2"
      },
      "source": [
        "Comenzamos por definir una función que nos ayude a determinar la primalidad de un número:"
      ]
    },
    {
      "cell_type": "code",
      "execution_count": 3,
      "metadata": {
        "id": "bb3BsfvBd9O3"
      },
      "outputs": [],
      "source": [
        "def es_primo(numero):\n",
        "    # Si el número es menor o igual a 1, no es primo\n",
        "    if numero <= 1:\n",
        "        return False\n",
        "    # Si el número es 2 o 3, es primo\n",
        "    elif numero <= 3:\n",
        "        return True\n",
        "    # Si el número es divisible por 2 o 3, no es primo\n",
        "    elif numero % 2 == 0 or numero % 3 == 0:\n",
        "        return False\n",
        "    # Comienza en 5 y verifica si el número es divisible por cualquier número de la forma 6k ± 1\n",
        "    i = 5\n",
        "    while i * i <= numero:\n",
        "        if numero % i == 0 or numero % (i + 2) == 0:\n",
        "            # Si el número es divisible por un número de la forma 6k ± 1, no es primo\n",
        "            return False\n",
        "        # Avanza al siguiente número de la forma 6k ± 1\n",
        "        i += 6\n",
        "    # Si el número no es divisible por ningún número de la forma 6k ± 1, es primo\n",
        "    return True\n"
      ]
    },
    {
      "attachments": {},
      "cell_type": "markdown",
      "metadata": {
        "id": "scEWWJb1d9O1"
      },
      "source": [
        "Ahora definimos una función que nos ayude a factorizar un número en sus factores primos:"
      ]
    },
    {
      "cell_type": "code",
      "execution_count": 2,
      "metadata": {
        "id": "_KJ3n4sRd9O1"
      },
      "outputs": [],
      "source": [
        "def factorizar_primos(numero):\n",
        "    # Comprobar si el número es primo\n",
        "    if es_primo(numero):\n",
        "        return [numero]  # Si el número es primo, devuelve solo el número de entrada.\n",
        "\n",
        "    # Inicializar una lista para almacenar los factores primos\n",
        "    factores_primos = []\n",
        "\n",
        "    # Iterar hasta factorizar completamente el número\n",
        "    i = 2  # Comenzar con el número primo más pequeño\n",
        "    while i <= math.sqrt(numero):  # Iterar hasta la raíz cuadrada del número para menor carga computacional\n",
        "        if numero % i == 0:  \n",
        "            factores_primos.append(i)  # Agregar i a la lista de factores primos\n",
        "            numero //= i  # Dividir el número por i y actualizar su valor\n",
        "        else:\n",
        "            i += 1  \n",
        "\n",
        "    if numero > 1:  # Si después del bucle el número de entrada es mayor que 1, significa que quedó algún factor primo\n",
        "        factores_primos.append(numero)  # Agregar el factor primo restante a la lista de factores primos\n",
        "\n",
        "    return factores_primos  # Devolver la lista de factores primos\n"
      ]
    },
    {
      "attachments": {},
      "cell_type": "markdown",
      "metadata": {
        "id": "TXUvirjyd9O4"
      },
      "source": [
        "Luego definimos la función euler_totient_lema que nos permite recopilar las anteriores funciones y aplicar el lema de euler totient."
      ]
    },
    {
      "cell_type": "code",
      "execution_count": 4,
      "metadata": {
        "id": "uiGmV0Ysd9O4"
      },
      "outputs": [],
      "source": [
        "# La función euler_totient_lema implementa el lema de Euler para calcular el número de elementos en un grupo finito.\n",
        "def euler_totient_lema(OrdenG):\n",
        "    # Si el orden del grupo es 1, hay un solo elemento, el elemento neutro.\n",
        "    if (OrdenG == 1):\n",
        "        return OrdenG\n",
        "    # Si el orden del grupo es primo, se utiliza la fórmula φ(p) = p - 1 para calcular el valor de φ(n) y se devuelve ese valor.\n",
        "    elif (es_primo(OrdenG)):\n",
        "        return OrdenG - 1\n",
        "    # De lo contrario, se utiliza la factorización en primos del orden del grupo \n",
        "    # y la fórmula φ(n) = (p^k - p^(k-1)) * ... * (q^m - q^(m-1)) para calcular el valor de φ(n) y lo devuelve.\n",
        "    else:\n",
        "        numero_generadores = 1\n",
        "        factores_primos = factorizar_primos(OrdenG)\n",
        "        \n",
        "        # Se utiliza un conjunto para eliminar duplicados y obtener una lista de factores primos únicos\n",
        "        set_f_p = set(factores_primos)\n",
        "        set_f_p = list(set_f_p)\n",
        "        \n",
        "        # Se itera a través de la lista de factores primos y se calcula el valor correspondiente para cada uno de ellos.\n",
        "        for primo in range (0,len(set_f_p)):\n",
        "            potencia = factores_primos.count(set_f_p[primo])\n",
        "            numero_generadores = numero_generadores * (pow(set_f_p[primo], potencia)-pow(set_f_p[primo], potencia-1))\n",
        "        return numero_generadores"
      ]
    },
    {
      "attachments": {},
      "cell_type": "markdown",
      "metadata": {},
      "source": [
        "----------------------------------------------------------------------------------------------------------------------------"
      ]
    },
    {
      "attachments": {},
      "cell_type": "markdown",
      "metadata": {
        "id": "RVhTQlTLd9O5"
      },
      "source": [
        "Ahora definimos el procedimiento a fuerza bruta, realizando unas funciones que calculen el MCD de todos los numeros hasta el entero ingresado:"
      ]
    },
    {
      "cell_type": "code",
      "execution_count": 5,
      "metadata": {
        "id": "P6-ys4OBd9O6"
      },
      "outputs": [],
      "source": [
        "def mcd(x, y):\n",
        "    # Algoritmo de Euclides para encontrar el máximo común divisor de x e y\n",
        "    if y == 0: \n",
        "        return x\n",
        "    else:\n",
        "        return mcd(y, x%y)"
      ]
    },
    {
      "cell_type": "code",
      "execution_count": 6,
      "metadata": {
        "id": "QoyLG8lnd9O6"
      },
      "outputs": [],
      "source": [
        "def generadores_fb(ordenG):\n",
        "    generadoresFB=0\n",
        " \n",
        "    # Bucle for para iterar desde 1 hasta ordenG-1 y encontrar los generadores del grupo\n",
        "    for i in range(1,ordenG):\n",
        "        # Verificar si el máximo común divisor entre ordenG e i es 1\n",
        "        if mcd(ordenG,i)==1:\n",
        "            # Si el MCD es 1, entonces i es un generador, aumentar el contador de generadores\n",
        "            generadoresFB+=1\n",
        "    # Retornar el número total de generadores encontrados\n",
        "    return generadoresFB\n",
        "\n"
      ]
    },
    {
      "attachments": {},
      "cell_type": "markdown",
      "metadata": {
        "id": "QQQCGl0bd9O6"
      },
      "source": [
        "---------------------------------------------------------------------------------------------------------------------------------------------"
      ]
    },
    {
      "attachments": {},
      "cell_type": "markdown",
      "metadata": {},
      "source": [
        "Finalmente agregamos una función Main para llamar todas las anteriores funciones y medir sus tiempos de ejecución para hacer el análisis comparativo de los dos métodos:"
      ]
    },
    {
      "cell_type": "code",
      "execution_count": null,
      "metadata": {
        "id": "EMf4vMJKd9O7"
      },
      "outputs": [],
      "source": [
        "\n",
        "def main():\n",
        "    OrdenG =  int(input(\"Ingrese el entero a calcular sus generadores: \"))#23597112\n",
        "    print(\"\\n|G| = \" + str(OrdenG))\n",
        "    if (es_primo(OrdenG) == True):\n",
        "        print(\"¿Es primo?: Si \\n\")\n",
        "    else:\n",
        "        print(\"¿Es primo?: No \\n\")\n",
        "  \n",
        "    # Euler Totient\n",
        "    start = time.time()\n",
        "    print(\"Euler Totient: \"+ str(euler_totient_lema(OrdenG)))\n",
        "    end = time.time()\n",
        "    print(\"Tiempo: \"+ str(end - start) + \"\\n\")\n",
        "\n",
        "    \n",
        "    # Fuerza Bruta\n",
        "    start = time.time()\n",
        "    print(\"Fuerza Bruta: \"+ str(generadores_fb(OrdenG)))\n",
        "    end = time.time()\n",
        "    print(\"Tiempo: \"+ str(end - start))\n",
        "    \n",
        "    \n",
        "main()"
      ]
    },
    {
      "attachments": {},
      "cell_type": "markdown",
      "metadata": {
        "id": "S-mI5kXCd9O9"
      },
      "source": [
        "Bibliografía\n",
        "\n",
        "https://es.wikipedia.org/wiki/Funci%C3%B3n_%CF%86_de_Euler"
      ]
    }
  ],
  "metadata": {
    "colab": {
      "provenance": []
    },
    "kernelspec": {
      "display_name": "Python 3",
      "language": "python",
      "name": "python3"
    },
    "language_info": {
      "codemirror_mode": {
        "name": "ipython",
        "version": 3
      },
      "file_extension": ".py",
      "mimetype": "text/x-python",
      "name": "python",
      "nbconvert_exporter": "python",
      "pygments_lexer": "ipython3",
      "version": "3.10.11"
    },
    "orig_nbformat": 4,
    "vscode": {
      "interpreter": {
        "hash": "cb0f5aa502a22d06408b0f4762a160f5914c094cb3a1ad1bf7072f0354307a69"
      }
    }
  },
  "nbformat": 4,
  "nbformat_minor": 0
}
