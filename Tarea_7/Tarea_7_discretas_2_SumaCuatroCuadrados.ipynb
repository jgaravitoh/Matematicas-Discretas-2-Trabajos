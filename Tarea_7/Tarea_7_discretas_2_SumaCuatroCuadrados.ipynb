{
  "cells": [
    {
      "attachments": {},
      "cell_type": "markdown",
      "metadata": {},
      "source": [
        "*Teorema de los cuatro cuadrados de Lagrange*\n",
        "\n",
        "*Matemáticas Discretas 2: 2023-1 | Universidad Nacional De Colombia*\n",
        "\n",
        "*Juan Carlos Garavito Higuera*\n",
        "\n",
        "El presente reto se nos muestra para poder hacer una representación de un número con una suma de 4 cuadrados o menos mediante código. "
      ]
    },
    {
      "cell_type": "markdown",
      "metadata": {
        "id": "ObvmHSlLd9O0"
      },
      "source": [
        "DESARROLLO DE LA SOLUCIÓN DEL PROBLEMA."
      ]
    },
    {
      "attachments": {},
      "cell_type": "markdown",
      "metadata": {
        "id": "uHfSHqJLd9O0"
      },
      "source": [
        "El teorema nos muestra que podemos representar un número de la siguiente forma:"
      ]
    },
    {
      "attachments": {
        "image.png": {
          "image/png": "[encoded data removed]"
        }
      },
      "cell_type": "markdown",
      "metadata": {},
      "source": [
        "![image.png](attachment:image.png)\n",
        "                        "
      ]
    },
    {
      "attachments": {},
      "cell_type": "markdown",
      "metadata": {},
      "source": [
        "El acercamiento realizado consiste en una función que a manera de búsqueda exhaustiva intenta conseguir los cuadrados que representen al número ingresado."
      ]
    },
    {
      "attachments": {},
      "cell_type": "markdown",
      "metadata": {
        "id": "iOVFb08Cd9O2"
      },
      "source": [
        "Comenzamos por definir la función que nos ayude a determinar la suma de cuadrados que represente el número:"
      ]
    },
    {
      "cell_type": "code",
      "execution_count": 1,
      "metadata": {
        "id": "bb3BsfvBd9O3"
      },
      "outputs": [],
      "source": [
        "def four_squares(n):\n",
        "    \"\"\"\n",
        "    Devuelve una tupla de cuatro enteros no negativos que suman n, si es posible.\n",
        "    Si no es posible, devuelve None.\n",
        "\n",
        "    Argumentos:\n",
        "    n -- un número entero positivo que se va a expresar como la suma de cuatro cuadrados\n",
        "\n",
        "    Devuelve:\n",
        "    Una tupla de cuatro enteros no negativos que suman n, si es posible.\n",
        "    Si no es posible, devuelve None.\n",
        "    \"\"\"\n",
        "\n",
        "    # Verifica que el número sea positivo\n",
        "    if n < 0:\n",
        "        return None\n",
        "\n",
        "    # Crea una lista con los cuadrados de los números enteros menores o iguales que n\n",
        "    squares = []\n",
        "    i = 0\n",
        "    while i ** 2 <= n:\n",
        "        squares.append(i ** 2)\n",
        "        i += 1\n",
        "\n",
        "    # Busca las cuatro combinaciones de cuadrados que suman n\n",
        "    for a in reversed(squares):\n",
        "        for b in reversed(squares):\n",
        "            for c in reversed(squares):\n",
        "                # Calcula el cuarto número que completa la suma\n",
        "                d = n - a - b - c\n",
        "                # Si el cuarto número es negativo, salta a la siguiente iteración\n",
        "                if d < 0:\n",
        "                    continue\n",
        "                # Si el cuarto número está en la lista de cuadrados, devuelve la solución\n",
        "                if d in squares:\n",
        "                    return (int(a ** 0.5), int(b ** 0.5), int(c ** 0.5), int(d ** 0.5))\n",
        "\n",
        "    # Si no se encontró ninguna combinación de cuadrados que sume n, devuelve None\n",
        "    return None"
      ]
    },
    {
      "attachments": {},
      "cell_type": "markdown",
      "metadata": {
        "id": "scEWWJb1d9O1"
      },
      "source": [
        "Ahora definimos la función main que nos premita llamar a la función anterior y mostrar su resultado:"
      ]
    },
    {
      "cell_type": "code",
      "execution_count": null,
      "metadata": {
        "id": "_KJ3n4sRd9O1"
      },
      "outputs": [],
      "source": [
        "\n",
        "def main():\n",
        "    print(\"Cuadrados: \"+ str(four_squares(int(input(\"Ingrese el número a deconstruir: \")))))\n",
        "main()"
      ]
    },
    {
      "attachments": {},
      "cell_type": "markdown",
      "metadata": {
        "id": "QQQCGl0bd9O6"
      },
      "source": [
        "---------------------------------------------------------------------------------------------------------------------------------------------"
      ]
    },
    {
      "attachments": {},
      "cell_type": "markdown",
      "metadata": {
        "id": "S-mI5kXCd9O9"
      },
      "source": [
        "Bibliografía\n",
        "\n",
        "https://es.wikipedia.org/wiki/Teorema_de_los_cuatro_cuadrados"
      ]
    }
  ],
  "metadata": {
    "colab": {
      "provenance": []
    },
    "kernelspec": {
      "display_name": "Python 3",
      "language": "python",
      "name": "python3"
    },
    "language_info": {
      "codemirror_mode": {
        "name": "ipython",
        "version": 3
      },
      "file_extension": ".py",
      "mimetype": "text/x-python",
      "name": "python",
      "nbconvert_exporter": "python",
      "pygments_lexer": "ipython3",
      "version": "3.10.11"
    },
    "orig_nbformat": 4,
    "vscode": {
      "interpreter": {
        "hash": "cb0f5aa502a22d06408b0f4762a160f5914c094cb3a1ad1bf7072f0354307a69"
      }
    }
  },
  "nbformat": 4,
  "nbformat_minor": 0
}
